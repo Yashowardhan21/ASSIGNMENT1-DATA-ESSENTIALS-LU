{
 "cells": [
  {
   "cell_type": "raw",
   "metadata": {},
   "source": [
    "ANSWER 3:"
   ]
  },
  {
   "cell_type": "code",
   "execution_count": 1,
   "metadata": {},
   "outputs": [
    {
     "name": "stdout",
     "output_type": "stream",
     "text": [
      " Please Enter the Cost Price of the product: 5000\n",
      " Please Enter the Sale Price of the product: 6000\n",
      "Total Profit = 1000.0\n"
     ]
    }
   ],
   "source": [
    "CP = float(input(\" Please Enter the Cost Price of the product: \")) #cp is cost price\n",
    "\n",
    "SP = float(input(\" Please Enter the Sale Price of the product: \")) #sp is selling price\n",
    "\n",
    "if(CP > SP):\n",
    "\n",
    "   amount = CP - SP\n",
    "\n",
    "   print(\"Total Loss Amount = {0}\".format(amount))\n",
    "\n",
    "elif(SP > CP):\n",
    "\n",
    "   amount = SP - CP\n",
    "\n",
    "   print(\"Total Profit = {0}\".format(amount))\n",
    "\n",
    "else:\n",
    "\n",
    "   print(\"There is no Profit no Loss....\")"
   ]
  },
  {
   "cell_type": "code",
   "execution_count": null,
   "metadata": {},
   "outputs": [],
   "source": []
  }
 ],
 "metadata": {
  "kernelspec": {
   "display_name": "Python 3",
   "language": "python",
   "name": "python3"
  },
  "language_info": {
   "codemirror_mode": {
    "name": "ipython",
    "version": 3
   },
   "file_extension": ".py",
   "mimetype": "text/x-python",
   "name": "python",
   "nbconvert_exporter": "python",
   "pygments_lexer": "ipython3",
   "version": "3.8.3"
  }
 },
 "nbformat": 4,
 "nbformat_minor": 4
}
