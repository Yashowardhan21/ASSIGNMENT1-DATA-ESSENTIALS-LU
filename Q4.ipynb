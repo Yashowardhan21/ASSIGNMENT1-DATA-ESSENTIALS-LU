{
 "cells": [
  {
   "cell_type": "raw",
   "metadata": {},
   "source": [
    "ANSWER4:"
   ]
  },
  {
   "cell_type": "code",
   "execution_count": 1,
   "metadata": {},
   "outputs": [
    {
     "name": "stdout",
     "output_type": "stream",
     "text": [
      "Please enter Euros:20\n",
      "1600.0  Rupees\n"
     ]
    }
   ],
   "source": [
    "Euros = float(input(\"Please enter Euros:\"))\n",
    "Rupees =Euros * 80\n",
    "print(Rupees, \" Rupees\")"
   ]
  },
  {
   "cell_type": "code",
   "execution_count": null,
   "metadata": {},
   "outputs": [],
   "source": []
  }
 ],
 "metadata": {
  "kernelspec": {
   "display_name": "Python 3",
   "language": "python",
   "name": "python3"
  },
  "language_info": {
   "codemirror_mode": {
    "name": "ipython",
    "version": 3
   },
   "file_extension": ".py",
   "mimetype": "text/x-python",
   "name": "python",
   "nbconvert_exporter": "python",
   "pygments_lexer": "ipython3",
   "version": "3.8.3"
  }
 },
 "nbformat": 4,
 "nbformat_minor": 4
}
